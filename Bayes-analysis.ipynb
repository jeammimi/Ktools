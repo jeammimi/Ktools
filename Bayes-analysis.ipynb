{
 "cells": [
  {
   "cell_type": "code",
   "execution_count": 1,
   "metadata": {
    "collapsed": true
   },
   "outputs": [],
   "source": [
    "%matplotlib inline\n",
    "import pylab as plt\n",
    "import pandas"
   ]
  },
  {
   "cell_type": "markdown",
   "metadata": {},
   "source": [
    "# Generate initial data"
   ]
  },
  {
   "cell_type": "code",
   "execution_count": 2,
   "metadata": {
    "collapsed": false
   },
   "outputs": [
    {
     "name": "stdout",
     "output_type": "stream",
     "text": [
      "   Unnamed: 0  AVG_anticipation_when_early_f  \\\n",
      "0           0                      -0.440374   \n",
      "1           1                      -0.422862   \n",
      "2           2                      -0.439164   \n",
      "3           3                      -0.440374   \n",
      "4           4                      -0.439138   \n",
      "\n",
      "   AVG_delay_over_remaining_days_distinct_f  \\\n",
      "0                                  0.548367   \n",
      "1                                 -0.281821   \n",
      "2                                 -0.098044   \n",
      "3                                  0.143614   \n",
      "4                                  0.539484   \n",
      "\n",
      "   AVG_delay_over_remaining_days_distinct_last10_f  \\\n",
      "0                                         0.390253   \n",
      "1                                        -0.236425   \n",
      "2                                        -0.145258   \n",
      "3                                         0.094592   \n",
      "4                                         0.064250   \n",
      "\n",
      "   AVG_delay_over_remaining_days_distinct_last3_f  \\\n",
      "0                                        0.406523   \n",
      "1                                        0.000000   \n",
      "2                                       -0.186194   \n",
      "3                                        0.421767   \n",
      "4                                       -0.109862   \n",
      "\n",
      "   AVG_delay_over_remaining_days_f  Amount_Rate_Not_PIM_f  \\\n",
      "0                         0.230537               -0.00336   \n",
      "1                        -0.181782               -0.00336   \n",
      "2                        -0.086368               -0.00336   \n",
      "3                         0.042637               -0.00336   \n",
      "4                         0.161488               -0.00336   \n",
      "\n",
      "   Amount_Rate_Not_PIM_pk_01_f  Amount_Rate_Not_PIM_when_pos_f  Amount_f  \\\n",
      "0                     1.853038                        2.505738 -0.149572   \n",
      "1                    -0.590071                       -0.589784 -0.062210   \n",
      "2                    -0.136730                       -0.015362 -0.055405   \n",
      "3                    -0.493385                        0.176562 -0.138420   \n",
      "4                    -0.219731                       -0.118623 -0.055732   \n",
      "\n",
      "    ...    Rate_early_docs_f  Ratio_OB_per_pk1_f  Ratio_Pay_cycle_dom_f  \\\n",
      "0   ...            -0.954149           -0.093403               0.422252   \n",
      "1   ...            -0.850165           -0.131110              -0.285553   \n",
      "2   ...            -0.926316           -0.130588              -0.484162   \n",
      "3   ...            -0.954149           -0.104493               0.244315   \n",
      "4   ...            -0.919809           -0.130632               0.141480   \n",
      "\n",
      "   Ratio_Pay_cycle_dom_when_pos_f  Ratio_remaining_days_in_month_f  \\\n",
      "0                        0.623976                        -1.047239   \n",
      "1                       -0.512240                         0.600166   \n",
      "2                       -0.691411                         0.451656   \n",
      "3                        0.446223                        -0.953990   \n",
      "4                        0.102731                        -0.925408   \n",
      "\n",
      "   Rel_Max_FX_Rate_f  Rel_Min_FX_Rate_f  Relative_Amount_vs_OD_f   StdPT_f  \\\n",
      "0           0.077432           0.191980                 0.000000 -2.560572   \n",
      "1          -0.159264          -0.050402                 0.000000  1.235130   \n",
      "2          -0.838830           0.784377                 0.004313 -0.662721   \n",
      "3           2.281614          -1.910787                 0.002972 -1.611647   \n",
      "4          -0.838830           0.784377                 0.004531 -0.662721   \n",
      "\n",
      "   TARGET  \n",
      "0       0  \n",
      "1       1  \n",
      "2       1  \n",
      "3       0  \n",
      "4       1  \n",
      "\n",
      "[5 rows x 42 columns]\n"
     ]
    }
   ],
   "source": [
    "import numpy as np\n",
    "\n",
    "N = 5000\n",
    "\n",
    "Train = pandas.read_csv(\"./train.csv\")\n",
    "Test = pandas.read_csv(\"./test.csv\")\n",
    "\n",
    "print(Test.head())\n",
    "Col = list(Train.columns.values)\n",
    "Col.remove(\"Unnamed: 0\")\n",
    "Col.remove(\"TARGET\")"
   ]
  },
  {
   "cell_type": "code",
   "execution_count": 7,
   "metadata": {
    "collapsed": false
   },
   "outputs": [],
   "source": [
    "#tokeep.pop(0)\n",
    "#print (tokeep)\n",
    "tokeep = [7, 11, 12, 13, 16, 20, 24, 25, 27, 28, 29, 30, 31, 32, 33, 34, 35, 36, 37, 38, 39, 40]"
   ]
  },
  {
   "cell_type": "code",
   "execution_count": 8,
   "metadata": {
    "collapsed": false
   },
   "outputs": [
    {
     "name": "stdout",
     "output_type": "stream",
     "text": [
      "(263404, 22)\n",
      "(65852, 22)\n",
      "0\n",
      "[  7.53692580e-17  -2.92615614e-17  -3.77048606e-17  -5.55153661e-17\n",
      "  -4.57232972e-18   4.99044837e-19  -4.25671758e-17  -1.85590728e-17\n",
      "  -4.66822725e-16   8.92480995e-17  -2.43048323e-17   8.63212690e-19\n",
      "   3.37192457e-18  -8.74812111e-17   6.71687375e-18  -1.90850931e-17\n",
      "  -4.69102146e-17   1.15050066e-17   2.90635620e-15  -1.24909574e-15\n",
      "   4.92300987e-19   2.23167456e-16]\n"
     ]
    }
   ],
   "source": [
    "N = len(Train[\"TARGET\"])\n",
    "X_train = np.array([np.ones(N)] + [Train[icol] for icol in Col]).T[::,tokeep]\n",
    "print(X_train.shape)\n",
    "y_train = Train[\"TARGET\"]\n",
    "N = len(Test[\"TARGET\"])\n",
    "X_test = np.array([np.ones(N)] + [Test[icol] for icol in Col]).T[::,tokeep]\n",
    "print( X_test.shape)\n",
    "y_test = Test[\"TARGET\"]\n",
    "\n",
    "print(np.sum(np.isnan(X_train)))\n",
    "print( X_train.mean(axis=0))\n",
    "#print(Col)"
   ]
  },
  {
   "cell_type": "code",
   "execution_count": null,
   "metadata": {
    "collapsed": false
   },
   "outputs": [],
   "source": [
    "print(X_test[1].shape)"
   ]
  },
  {
   "cell_type": "markdown",
   "metadata": {},
   "source": [
    "## Create the model"
   ]
  },
  {
   "cell_type": "code",
   "execution_count": 9,
   "metadata": {
    "collapsed": false
   },
   "outputs": [],
   "source": [
    "import pymc3\n",
    "from pymc3 import Bernoulli,Cauchy,Model\n",
    "import theano.tensor as T\n",
    "basic_model = Model()\n",
    "\n",
    "with basic_model:\n",
    "\n",
    "    # Priors for unknown model parameters\n",
    "    beta = Cauchy('beta', alpha=0, beta=5, shape=X_train.shape[1])\n",
    "    \n",
    "    x = T.dot(X_train,beta)\n",
    "    x = x + 0.5\n",
    "    # I couldn't implement gaussian cdf\n",
    "    # But this function is close to the cdf (Cf nlast cell)\n",
    "    c_normal = 1./(1+T.exp(-1.75*x))\n",
    "\n",
    "    # Likelihood (sampling distribution) of observations\n",
    "    Y_obs = Bernoulli('Y_obs', p=c_normal, observed=y_train)"
   ]
  },
  {
   "cell_type": "markdown",
   "metadata": {},
   "source": [
    "# Estimate the maximum a posteriori"
   ]
  },
  {
   "cell_type": "code",
   "execution_count": 10,
   "metadata": {
    "collapsed": false
   },
   "outputs": [
    {
     "name": "stdout",
     "output_type": "stream",
     "text": [
      "Estimate {'beta': array([ -3.64750722e-02,  -1.34288546e-01,   1.09841615e-01,\n",
      "        -3.42964691e-02,   1.52990294e-01,  -5.89281028e-02,\n",
      "        -8.53250827e-02,   1.48648365e-01,  -2.63072164e-02,\n",
      "        -6.67125599e-02,  -1.69414309e-01,  -8.67936180e-02,\n",
      "        -8.35523969e-02,   4.54702194e-02,  -1.07842810e-02,\n",
      "        -1.21429224e-02,  -6.96908448e-02,   3.31393449e-01,\n",
      "         1.56895523e-02,  -1.02948345e-02,   1.64774308e-04,\n",
      "         4.47505690e-02])}\n"
     ]
    }
   ],
   "source": [
    "from pymc3 import find_MAP\n",
    "\n",
    "map_estimate = find_MAP(model=basic_model)\n",
    "\n",
    "print(\"Estimate\",map_estimate)\n",
    "#print(\"Groud truth\",betas_v)"
   ]
  },
  {
   "cell_type": "code",
   "execution_count": 11,
   "metadata": {
    "collapsed": false
   },
   "outputs": [
    {
     "name": "stderr",
     "output_type": "stream",
     "text": [
      "100%|██████████| 100/100 [06:35<00:00,  4.22s/it]\n"
     ]
    }
   ],
   "source": [
    "from pymc3 import NUTS, sample\n",
    "from scipy import optimize\n",
    "\n",
    "with basic_model:\n",
    "\n",
    "    # obtain starting values via MAP\n",
    "    start = find_MAP(fmin=optimize.fmin_powell)\n",
    "\n",
    "    # draw 2000 posterior samples\n",
    "    trace = sample(100,start=start)"
   ]
  },
  {
   "cell_type": "code",
   "execution_count": null,
   "metadata": {
    "collapsed": false
   },
   "outputs": [],
   "source": [
    "import pickle\n",
    "np.savetxt(\"trace_30.pick\",trace[\"beta\"].mean(axis=0))\n",
    "#with open(\"trace_30.pick\",\"w\") as f:\n",
    "#    pickle.dump(trace[\"beta\"].mean(axis=0),f)"
   ]
  },
  {
   "cell_type": "code",
   "execution_count": 12,
   "metadata": {
    "collapsed": false
   },
   "outputs": [
    {
     "name": "stdout",
     "output_type": "stream",
     "text": [
      "[ -3.67397487e-02  -1.34698143e-01   2.99184832e-02  -3.42938831e-02\n",
      "   1.53325394e-01  -5.92893329e-02  -8.51906207e-02   1.48765086e-01\n",
      "  -2.64556581e-02  -6.64453892e-02  -1.69224398e-01  -8.71304321e-02\n",
      "  -8.28503256e-02   4.53429139e-02  -1.08502880e-02  -1.23120040e-02\n",
      "  -6.93604922e-02   2.51366482e-01   1.59386264e-02  -1.04691930e-02\n",
      "  -2.88680995e-05   4.48785343e-02]\n"
     ]
    }
   ],
   "source": [
    "print(trace[\"beta\"].mean(axis=0))"
   ]
  },
  {
   "cell_type": "code",
   "execution_count": 13,
   "metadata": {
    "collapsed": false
   },
   "outputs": [
    {
     "name": "stdout",
     "output_type": "stream",
     "text": [
      "(263404,)\n",
      "[[ 0.10451626  0.05084205]\n",
      " [ 0.39212009  0.4525216 ]]\n",
      "[[ 0.10487153  0.05229909]\n",
      " [ 0.39285063  0.44997874]]\n"
     ]
    },
    {
     "data": {
      "image/png": "[encoded data removed]",
      "text/plain": [
       "<matplotlib.figure.Figure at 0x7f8b507dc550>"
      ]
     },
     "metadata": {},
     "output_type": "display_data"
    }
   ],
   "source": [
    "from sklearn.metrics import confusion_matrix\n",
    "def P(X,beta):\n",
    "    x = np.dot(X,beta)\n",
    "    return 1./(1+np.exp(-1.75*x))\n",
    "betas = trace[\"beta\"].mean(axis=0)\n",
    "betas[0] = .5\n",
    "res = P(X_train,betas) > 0.5\n",
    "print(res.shape)\n",
    "cf = confusion_matrix(y_train,res)\n",
    "plt.imshow(cf,interpolation=\"None\")\n",
    "plt.colorbar()\n",
    "print(cf / len(y_train))\n",
    "\n",
    "print(confusion_matrix(y_test, P(X_test,betas) > 0.5)/len(y_test))"
   ]
  },
  {
   "cell_type": "markdown",
   "metadata": {},
   "source": [
    "## Show the trace and the distribution of the samples"
   ]
  },
  {
   "cell_type": "code",
   "execution_count": 15,
   "metadata": {
    "collapsed": true
   },
   "outputs": [],
   "source": [
    "from pymc3 import traceplot,summary\n"
   ]
  },
  {
   "cell_type": "code",
   "execution_count": null,
   "metadata": {
    "collapsed": false
   },
   "outputs": [],
   "source": [
    "tokeep = [i + 30 for i,v in enumerate(trace[\"beta\"].mean(axis=0)) if v >0.05 or v < -0.05]\n",
    "loaded_trace = np.loadtxt(\"./trace_30.pick\")\n",
    "print(loaded_trace)\n",
    "tokeep = [i  for i,v in enumerate(loaded_trace) if v >0.05 or v < -0.05] + tokeep\n",
    "print(tokeep)"
   ]
  },
  {
   "cell_type": "code",
   "execution_count": 17,
   "metadata": {
    "collapsed": false
   },
   "outputs": [
    {
     "name": "stdout",
     "output_type": "stream",
     "text": [
      "\n",
      "beta:\n",
      "\n",
      "  Mean             SD               MC Error         95% HPD interval\n",
      "  -------------------------------------------------------------------\n",
      "  \n",
      "  -0.037           0.004            0.000            [-0.045, -0.029]\n",
      "  -0.135           0.003            0.000            [-0.142, -0.130]\n",
      "  0.030            0.109            0.011            [-0.156, 0.161]\n",
      "  -0.034           0.002            0.000            [-0.038, -0.031]\n",
      "  0.153            0.006            0.001            [0.143, 0.164]\n",
      "  -0.059           0.006            0.001            [-0.070, -0.048]\n",
      "  -0.085           0.003            0.000            [-0.090, -0.079]\n",
      "  0.149            0.005            0.000            [0.139, 0.156]\n",
      "  -0.026           0.003            0.000            [-0.033, -0.022]\n",
      "  -0.066           0.004            0.000            [-0.073, -0.059]\n",
      "  -0.169           0.005            0.000            [-0.178, -0.159]\n",
      "  -0.087           0.007            0.001            [-0.104, -0.077]\n",
      "  -0.083           0.005            0.001            [-0.093, -0.074]\n",
      "  0.045            0.004            0.000            [0.038, 0.052]\n",
      "  -0.011           0.004            0.000            [-0.018, -0.005]\n",
      "  -0.012           0.005            0.001            [-0.022, -0.004]\n",
      "  -0.069           0.006            0.001            [-0.080, -0.058]\n",
      "  0.251            0.108            0.011            [0.071, 0.387]\n",
      "  0.016            0.004            0.000            [0.007, 0.022]\n",
      "  -0.010           0.004            0.000            [-0.018, -0.002]\n",
      "  -0.000           0.003            0.000            [-0.004, 0.006]\n",
      "  0.045            0.003            0.000            [0.039, 0.052]\n",
      "\n",
      "  Posterior quantiles:\n",
      "  2.5            25             50             75             97.5\n",
      "  |--------------|==============|==============|--------------|\n",
      "  \n",
      "  -0.045         -0.040         -0.036         -0.034         -0.029\n",
      "  -0.142         -0.137         -0.134         -0.132         -0.129\n",
      "  -0.187         -0.092         0.075          0.107          0.155\n",
      "  -0.038         -0.035         -0.034         -0.033         -0.031\n",
      "  0.143          0.149          0.153          0.157          0.164\n",
      "  -0.071         -0.064         -0.059         -0.055         -0.048\n",
      "  -0.091         -0.087         -0.085         -0.083         -0.079\n",
      "  0.139          0.146          0.149          0.152          0.156\n",
      "  -0.033         -0.029         -0.026         -0.024         -0.020\n",
      "  -0.075         -0.069         -0.066         -0.064         -0.059\n",
      "  -0.181         -0.172         -0.169         -0.166         -0.159\n",
      "  -0.102         -0.090         -0.087         -0.083         -0.074\n",
      "  -0.093         -0.086         -0.083         -0.079         -0.074\n",
      "  0.038          0.042          0.045          0.049          0.052\n",
      "  -0.018         -0.013         -0.011         -0.008         -0.005\n",
      "  -0.022         -0.016         -0.012         -0.009         -0.004\n",
      "  -0.081         -0.075         -0.069         -0.065         -0.058\n",
      "  0.037          0.130          0.300          0.330          0.380\n",
      "  0.008          0.014          0.016          0.018          0.024\n",
      "  -0.018         -0.013         -0.010         -0.008         -0.002\n",
      "  -0.005         -0.002         -0.000         0.002          0.005\n",
      "  0.039          0.043          0.045          0.047          0.052\n",
      "\n"
     ]
    },
    {
     "data": {
      "image/png": "[encoded data removed]",
      "text/plain": [
       "<matplotlib.figure.Figure at 0x7f8b093c3cf8>"
      ]
     },
     "metadata": {},
     "output_type": "display_data"
    }
   ],
   "source": [
    "#print(\"Groud truth\",betas_v)\n",
    "traceplot(trace);\n",
    "summary(trace)"
   ]
  },
  {
   "cell_type": "markdown",
   "metadata": {},
   "source": [
    "## Comparison cdf vs sigmoid"
   ]
  },
  {
   "cell_type": "code",
   "execution_count": null,
   "metadata": {
    "collapsed": false
   },
   "outputs": [],
   "source": [
    "x = np.arange(-10,10,0.01)\n",
    "\n",
    "f = plt.figure(figsize=(10,5))\n",
    "ax = f.add_subplot(121)\n",
    "plt.title(\"Comparison\")\n",
    "plt.plot(x,norm.cdf(x),label=\"cdf\")\n",
    "plt.plot(x,1/(1+np.exp(-1.75*x)),label=\"sigmoid\")\n",
    "plt.legend(loc=\"best\")\n",
    "ax = f.add_subplot(122)\n",
    "plt.title(\"Difference\")\n",
    "plt.plot(x,norm.cdf(x)-1/(1+np.exp(-1.75*x)),label=\"difference\")\n",
    "plt.legend()\n"
   ]
  }
 ],
 "metadata": {
  "kernelspec": {
   "display_name": "Python 3",
   "language": "python",
   "name": "python3"
  },
  "language_info": {
   "codemirror_mode": {
    "name": "ipython",
    "version": 3
   },
   "file_extension": ".py",
   "mimetype": "text/x-python",
   "name": "python",
   "nbconvert_exporter": "python",
   "pygments_lexer": "ipython3",
   "version": "3.5.1"
  }
 },
 "nbformat": 4,
 "nbformat_minor": 0
}
